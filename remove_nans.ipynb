{
 "cells": [
  {
   "cell_type": "code",
   "execution_count": 5,
   "metadata": {},
   "outputs": [
    {
     "name": "stdout",
     "output_type": "stream",
     "text": [
      "reading file ...\n"
     ]
    },
    {
     "name": "stderr",
     "output_type": "stream",
     "text": [
      "/Users/nouf/opt/anaconda3/envs/python3/lib/python3.8/site-packages/IPython/core/interactiveshell.py:3062: DtypeWarning: Columns (35115,73826) have mixed types. Specify dtype option on import or set low_memory=False.\n",
      "  has_raised = await self.run_ast_nodes(code_ast.body, cell_name,\n"
     ]
    },
    {
     "name": "stdout",
     "output_type": "stream",
     "text": [
      "done reading file\n",
      "rs1000000     False\n",
      "rs10000023    False\n",
      "rs1000007     False\n",
      "rs10000081    False\n",
      "rs10000092    False\n",
      "              ...  \n",
      "rs999985      False\n",
      "rs9999853     False\n",
      "rs9999944     False\n",
      "rs999995      False\n",
      "rs9999963     False\n",
      "Length: 213001, dtype: bool\n",
      "['rs12043679', 'rs12043679.1', 'rs17382334', 'rs17382334.1']\n",
      "DONE!\n"
     ]
    }
   ],
   "source": [
    "import pandas as pd\n",
    "import numpy as np\n",
    "import collections\n",
    "\n",
    "\n",
    "file = 'users_data_not_encoded.csv'\n",
    "print(\"reading file ...\")\n",
    "data = pd.read_csv(file, sep = ' ')\n",
    "print(\"done reading file\")\n",
    "data = data.set_index('usersid')\n",
    "snps = data.columns\n",
    "snps = snps[:-1]\n",
    "data = data[snps]\n",
    "\n",
    "print(data.isna().any())\n",
    "#data = data.isna().any()\n",
    "columns = data.columns[data.isna().any()].tolist()\n",
    "print(columns)\n",
    "data = data[data.columns.drop(columns)]\n",
    "data.to_csv(\"users_data_not_encoded_new.csv\", sep = ' ')\n",
    "print(\"DONE!\")\n"
   ]
  },
  {
   "cell_type": "code",
   "execution_count": null,
   "metadata": {},
   "outputs": [],
   "source": []
  }
 ],
 "metadata": {
  "kernelspec": {
   "display_name": "Python 3",
   "language": "python",
   "name": "python3"
  },
  "language_info": {
   "codemirror_mode": {
    "name": "ipython",
    "version": 3
   },
   "file_extension": ".py",
   "mimetype": "text/x-python",
   "name": "python",
   "nbconvert_exporter": "python",
   "pygments_lexer": "ipython3",
   "version": "3.8.1"
  }
 },
 "nbformat": 4,
 "nbformat_minor": 4
}
