{
 "cells": [
  {
   "cell_type": "code",
   "execution_count": null,
   "metadata": {},
   "outputs": [
    {
     "name": "stdout",
     "output_type": "stream",
     "text": [
      " * Serving Flask app \"__main__\" (lazy loading)\n",
      " * Environment: production\n",
      "   WARNING: This is a development server. Do not use it in a production deployment.\n",
      "   Use a production WSGI server instead.\n",
      " * Debug mode: off\n"
     ]
    },
    {
     "name": "stderr",
     "output_type": "stream",
     "text": [
      " * Running on http://127.0.0.1:5000/ (Press CTRL+C to quit)\n",
      "127.0.0.1 - - [23/Apr/2020 22:37:43] \"\u001b[37mGET / HTTP/1.1\u001b[0m\" 200 -\n",
      "127.0.0.1 - - [23/Apr/2020 22:37:43] \"\u001b[37mGET /static/images/icons/favicon.ico HTTP/1.1\u001b[0m\" 200 -\n"
     ]
    },
    {
     "name": "stdout",
     "output_type": "stream",
     "text": [
      "Opening file: <FileStorage: '682.23andme.317' ('application/octet-stream')> ...\n"
     ]
    },
    {
     "name": "stderr",
     "output_type": "stream",
     "text": [
      "C:\\Users\\zainab\\anaconda3\\lib\\site-packages\\flask\\app.py:1950: DtypeWarning: Columns (1) have mixed types.Specify dtype option on import or set low_memory=False.\n",
      "  rv = self.dispatch_request()\n",
      "C:\\Users\\zainab\\anaconda3\\lib\\site-packages\\sklearn\\base.py:318: UserWarning: Trying to unpickle estimator SVC from version 0.22.2.post1 when using version 0.22.1. This might lead to breaking code or invalid results. Use at your own risk.\n",
      "  UserWarning)\n",
      "127.0.0.1 - - [23/Apr/2020 22:37:54] \"\u001b[32mPOST / HTTP/1.1\u001b[0m\" 302 -\n",
      "127.0.0.1 - - [23/Apr/2020 22:37:54] \"\u001b[37mGET / HTTP/1.1\u001b[0m\" 200 -\n"
     ]
    },
    {
     "name": "stdout",
     "output_type": "stream",
     "text": [
      "[[0.08902245 0.25685608 0.65412147]]\n",
      "['blue' 'brown' 'green']\n"
     ]
    }
   ],
   "source": [
    "import os\n",
    "import urllib.request\n",
    "from flask import Flask, flash, request, redirect, render_template\n",
    "from werkzeug.utils import secure_filename\n",
    "import pandas as pd\n",
    "import numpy as np\n",
    "import time\n",
    "from collections import Counter\n",
    "import csv\n",
    "#from playsound import playsound\n",
    "import pickle\n",
    "from flask_cors import CORS, cross_origin\n",
    "from flask import url_for\n",
    "\n",
    "app = Flask(__name__)\n",
    "cors = CORS(app)\n",
    "app.config['CORS_HEADERS'] = 'Content-Type'\n",
    "\n",
    "UPLOAD_FOLDER = 'C:/Users/zainab/upload'\n",
    "app.secret_key = \"secret key\"\n",
    "app.config['UPLOAD_FOLDER'] = UPLOAD_FOLDER\n",
    "scores = []\n",
    "labels = []\n",
    "\n",
    "def predictTheValue(file):\n",
    "    features_snps = []\n",
    "\n",
    "    with open('features_with_importance.csv', newline='') as csvfile:\n",
    "        features = list(csv.reader(csvfile))\n",
    "        features = features[1:]\n",
    "        for feature in features:\n",
    "            features_snps.append(feature[0])\n",
    "        features_snps = set(features_snps)\n",
    "\n",
    "    # construct user dataframe from user's 23andme file\n",
    "    print(\"Opening file: {} ...\".format(file))\n",
    "    user_df = pd.read_csv(file, delim_whitespace=True, names=['rsid', 'chromosome', 'position', 'genotype'])\n",
    "    user_df = user_df[['rsid','genotype']]\n",
    "    user_df = user_df.set_index(['rsid'])\n",
    "    user_df = user_df[user_df.index.isin(features_snps)] \n",
    "    user_df = user_df.transpose()\n",
    "    #print(user_df)\n",
    "\n",
    "    # Create dataframe of alleles count \n",
    "    alleles_count_df = pd.read_csv('alleles_count.csv', delim_whitespace=True, names=['rsid', 'genotype1', 'count1', 'genotype2', 'count2', 'genotype3', 'count3'])\n",
    "    alleles_count_df = alleles_count_df[['rsid', 'genotype1', 'count1','genotype2', 'count2']]\n",
    "    alleles_count_df = alleles_count_df.set_index(['rsid'])\n",
    "    alleles_count_df = alleles_count_df[alleles_count_df.index.isin(features_snps)]\n",
    "    alleles_count_df = alleles_count_df.reset_index()\n",
    "    #print(alleles_count_df)\n",
    "\n",
    "    # Encoding\n",
    "    for (columnName, columnData) in user_df.iteritems():\n",
    "\n",
    "        if columnName in alleles_count_df.rsid.tolist():\n",
    "            major_allele = alleles_count_df.loc[alleles_count_df.rsid == columnName,'genotype1'].tolist()[0]\n",
    "            user_genotype = user_df.at['genotype', columnName]\n",
    "\n",
    "            if user_genotype == \"AG\" or user_genotype == \"GA\" or user_genotype == \"CT\" or user_genotype == \"TC\": \n",
    "                user_df.at['genotype', columnName] = 2\n",
    "            elif major_allele == \"AG\" or major_allele == \"GA\" or major_allele == \"CT\" or major_allele == \"TC\":\n",
    "                second_major_allele = alleles_count_df.loc[alleles_count_df.rsid == columnName,'genotype2'].tolist()[0]\n",
    "                if user_genotype == second_major_allele:\n",
    "                    user_df.at['genotype', columnName] = 1\n",
    "                else:\n",
    "                    user_df.at['genotype', columnName] = 3\n",
    "            else:\n",
    "                if user_genotype == major_allele:\n",
    "                    user_df.at['genotype', columnName] = 1\n",
    "                else:\n",
    "                    user_df.at['genotype', columnName] = 3\n",
    "            \n",
    "    snp = user_df.columns.values\n",
    "    X = user_df[snp].values\n",
    "    #print(X)\n",
    "    # Load model\n",
    "    with open('pickle_model.pkl', 'rb') as file:\n",
    "        pickle_model = pickle.load(file)\n",
    "    # Predict\n",
    "    Ypredict = pickle_model.predict_proba(X)\n",
    "    print(Ypredict)\n",
    "    print(pickle_model.classes_)\n",
    "    scores=pickle_model.predict_proba(X)\n",
    "    labels=pickle_model.classes_\n",
    "    data= ' '.join(map(str, scores[0])) \n",
    "    data=data+\" \"+listToString(labels)\n",
    "    flash(data)\n",
    "\n",
    "def listToString(s):  \n",
    "    \n",
    "    # initialize an empty string \n",
    "    str1 = \" \" \n",
    "    \n",
    "    # return string   \n",
    "    return (str1.join(s)) \n",
    "\n",
    "@app.route('/')\n",
    "def upload_form():\n",
    "    return render_template('index.html')\n",
    "\n",
    "@app.route('/', methods=['POST'])\n",
    "def upload_file():\n",
    "    if request.method == 'POST':\n",
    "        f = request.files['file']\n",
    "        predictTheValue(f)\n",
    "        #to save file\n",
    "        #filename = secure_filename(f.filename)\n",
    "        #f.save(os.path.join(app.config['UPLOAD_FOLDER'], filename))\n",
    "        return redirect('/')\n",
    "\n",
    "if __name__ == '__main__':\n",
    "    app.run()\n",
    "    "
   ]
  },
  {
   "cell_type": "code",
   "execution_count": null,
   "metadata": {},
   "outputs": [],
   "source": []
  }
 ],
 "metadata": {
  "kernelspec": {
   "display_name": "Python 3",
   "language": "python",
   "name": "python3"
  },
  "language_info": {
   "codemirror_mode": {
    "name": "ipython",
    "version": 3
   },
   "file_extension": ".py",
   "mimetype": "text/x-python",
   "name": "python",
   "nbconvert_exporter": "python",
   "pygments_lexer": "ipython3",
   "version": "3.7.6"
  }
 },
 "nbformat": 4,
 "nbformat_minor": 4
}
